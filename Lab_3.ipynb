{
  "nbformat": 4,
  "nbformat_minor": 0,
  "metadata": {
    "colab": {
      "provenance": [],
      "authorship_tag": "ABX9TyPgwU6BboP48K14fHLFvF9S",
      "include_colab_link": true
    },
    "kernelspec": {
      "name": "python3",
      "display_name": "Python 3"
    },
    "language_info": {
      "name": "python"
    }
  },
  "cells": [
    {
      "cell_type": "markdown",
      "metadata": {
        "id": "view-in-github",
        "colab_type": "text"
      },
      "source": [
        "<a href=\"https://colab.research.google.com/github/bosszonke8276/Lab1AI/blob/main/Lab_3.ipynb\" target=\"_parent\"><img src=\"https://colab.research.google.com/assets/colab-badge.svg\" alt=\"Open In Colab\"/></a>"
      ]
    },
    {
      "cell_type": "code",
      "execution_count": null,
      "metadata": {
        "id": "1JD4hFaC4Dk6"
      },
      "outputs": [],
      "source": [
        "from matplotlib.colors import ListedColormap\n",
        "import numpy as np\n",
        "import matplotlib.pyplot as plt\n",
        "\n",
        "def plot_decision_regions(X, y, classifier, test_idx=None, resolution=0.02):\n",
        "    markers = ('s', 'x', 'o', '^', 'v')\n",
        "    colors = ('red', 'blue', 'lightgreen', 'gray', 'cyan')\n",
        "    cmap = ListedColormap(colors[:len(np.unique(y))])\n",
        "\n",
        "    x1_min, x1_max = X[:, 0].min() - 1, X[:, 0].max() + 1\n",
        "    x2_min, x2_max = X[:, 1].min() - 1, X[:, 1].max() + 1\n",
        "    xx1, xx2 = np.meshgrid(np.arange(x1_min, x1_max, resolution),\n",
        "                           np.arange(x2_min, x2_max, resolution))\n",
        "    Z = classifier.predict(np.array([xx1.ravel(), xx2.ravel()]).T)\n",
        "    Z = Z.reshape(xx1.shape)\n",
        "    plt.contourf(xx1, xx2, Z, alpha=0.3, cmap=cmap)\n",
        "    plt.xlim(xx1.min(), xx1.max())\n",
        "    plt.ylim(xx2.min(), xx2.max())\n",
        "\n",
        "    for idx, cl in enumerate(np.unique(y)):\n",
        "        plt.scatter(x=X[y == cl, 0], y=X[y == cl, 1],\n",
        "                    alpha=0.8, c=colors[idx], marker=markers[idx], label=cl, edgecolor='black')\n",
        "\n",
        "    if test_idx:\n",
        "        X_test, y_test = X[test_idx, :], y[test_idx]\n",
        "        plt.scatter(X_test[:, 0], X_test[:, 1], c='none', edgecolor='black', alpha=1.0,\n",
        "                    linewidth=1, marker='o', s=100, label='test set')\n",
        "    plt.legend(loc='upper left')\n",
        "    plt.show()"
      ]
    },
    {
      "cell_type": "markdown",
      "source": [
        "**Excersice 2**"
      ],
      "metadata": {
        "id": "bD7Zauh-4g2_"
      }
    },
    {
      "cell_type": "code",
      "source": [
        "from sklearn.datasets import load_iris\n",
        "from sklearn.model_selection import train_test_split\n",
        "from sklearn.preprocessing import StandardScaler\n",
        "import numpy as np\n",
        "\n",
        "iris = load_iris()\n",
        "X = iris.data[:, [2, 3]]  # Petal length and width\n",
        "y = iris.target\n",
        "\n",
        "X_train, X_test, y_train, y_test = train_test_split(X, y, test_size=0.3, random_state=1, stratify=y)\n",
        "\n",
        "sc = StandardScaler()\n",
        "sc.fit(X_train)\n",
        "X_train_std = sc.transform(X_train)\n",
        "X_test_std = sc.transform(X_test)\n",
        "\n",
        "X_combined_std = np.vstack((X_train_std, X_test_std))\n",
        "y_combined = np.hstack((y_train, y_test))\n",
        "\n",
        "print(\"Class distribution:\", np.bincount(y_train))"
      ],
      "metadata": {
        "id": "lr-l45PN4IvP"
      },
      "execution_count": null,
      "outputs": []
    },
    {
      "cell_type": "code",
      "source": [
        "from sklearn.linear_model import Perceptron\n",
        "from sklearn.metrics import accuracy_score\n",
        "\n",
        "ppn = Perceptron(max_iter=40, eta0=0.1, random_state=1)\n",
        "ppn.fit(X_train_std, y_train)\n",
        "\n",
        "y_pred = ppn.predict(X_test_std)\n",
        "print('Accuracy:', accuracy_score(y_test, y_pred))\n",
        "\n",
        "plot_decision_regions(X_combined_std, y_combined, classifier=ppn, test_idx=range(len(X_train), len(X_combined_std)))\n",
        "plt.xlabel('Petal length [standardized]')\n",
        "plt.ylabel('Petal width [standardized]')"
      ],
      "metadata": {
        "id": "rDaA0Ft54rHx"
      },
      "execution_count": null,
      "outputs": []
    },
    {
      "cell_type": "code",
      "source": [
        "from sklearn.linear_model import Perceptron\n",
        "from sklearn.metrics import accuracy_score\n",
        "\n",
        "ppn = Perceptron(max_iter=40, eta0=0.01, random_state=1)\n",
        "ppn.fit(X_train_std, y_train)\n",
        "\n",
        "y_pred = ppn.predict(X_test_std)\n",
        "print('Accuracy:', accuracy_score(y_test, y_pred))\n",
        "\n",
        "plot_decision_regions(X_combined_std, y_combined, classifier=ppn, test_idx=range(len(X_train), len(X_combined_std)))\n",
        "plt.xlabel('Petal length [standardized]')\n",
        "plt.ylabel('Petal width [standardized]')"
      ],
      "metadata": {
        "id": "iwHB-lmk5HAQ"
      },
      "execution_count": null,
      "outputs": []
    },
    {
      "cell_type": "code",
      "source": [
        "from sklearn.linear_model import Perceptron\n",
        "from sklearn.metrics import accuracy_score\n",
        "\n",
        "ppn = Perceptron(max_iter=40, eta0=1, random_state=1)\n",
        "ppn.fit(X_train_std, y_train)\n",
        "\n",
        "y_pred = ppn.predict(X_test_std)\n",
        "print('Accuracy:', accuracy_score(y_test, y_pred))\n",
        "\n",
        "plot_decision_regions(X_combined_std, y_combined, classifier=ppn, test_idx=range(len(X_train), len(X_combined_std)))\n",
        "plt.xlabel('Petal length [standardized]')\n",
        "plt.ylabel('Petal width [standardized]')"
      ],
      "metadata": {
        "id": "9YYPViwK5V1v"
      },
      "execution_count": null,
      "outputs": []
    },
    {
      "cell_type": "markdown",
      "source": [
        "**Excersice 3**"
      ],
      "metadata": {
        "id": "b5d1cYcw5tME"
      }
    },
    {
      "cell_type": "code",
      "source": [
        "from sklearn.linear_model import LogisticRegression\n",
        "\n",
        "lr = LogisticRegression(C=100.0, random_state=1, solver='lbfgs', multi_class='ovr')\n",
        "lr.fit(X_train_std, y_train)\n",
        "\n",
        "y_pred = lr.predict(X_test_std)\n",
        "print('Accuracy:', accuracy_score(y_test, y_pred))\n",
        "print('Probabilities:', lr.predict_proba(X_test_std[:3]))\n",
        "\n",
        "plot_decision_regions(X_combined_std, y_combined, classifier=lr, test_idx=range(len(X_train), len(X_combined_std)))\n",
        "plt.xlabel('Petal length [standardized]')\n",
        "plt.ylabel('Petal width [standardized]')"
      ],
      "metadata": {
        "id": "wZrj_p9C5zq6"
      },
      "execution_count": null,
      "outputs": []
    },
    {
      "cell_type": "code",
      "source": [
        "from sklearn.linear_model import LogisticRegression\n",
        "\n",
        "lr = LogisticRegression(C=1.0, random_state=1, solver='lbfgs', multi_class='ovr')\n",
        "lr.fit(X_train_std, y_train)\n",
        "\n",
        "y_pred = lr.predict(X_test_std)\n",
        "print('Accuracy:', accuracy_score(y_test, y_pred))\n",
        "print('Probabilities:', lr.predict_proba(X_test_std[:3]))\n",
        "\n",
        "plot_decision_regions(X_combined_std, y_combined, classifier=lr, test_idx=range(len(X_train), len(X_combined_std)))\n",
        "plt.xlabel('Petal length [standardized]')\n",
        "plt.ylabel('Petal width [standardized]')"
      ],
      "metadata": {
        "id": "tur6q5896F5t"
      },
      "execution_count": null,
      "outputs": []
    },
    {
      "cell_type": "code",
      "source": [
        "from sklearn.linear_model import LogisticRegression\n",
        "\n",
        "lr = LogisticRegression(C=0.01, random_state=1, solver='lbfgs', multi_class='ovr')\n",
        "lr.fit(X_train_std, y_train)\n",
        "\n",
        "y_pred = lr.predict(X_test_std)\n",
        "print('Accuracy:', accuracy_score(y_test, y_pred))\n",
        "print('Probabilities:', lr.predict_proba(X_test_std[:3]))\n",
        "\n",
        "plot_decision_regions(X_combined_std, y_combined, classifier=lr, test_idx=range(len(X_train), len(X_combined_std)))\n",
        "plt.xlabel('Petal length [standardized]')\n",
        "plt.ylabel('Petal width [standardized]')"
      ],
      "metadata": {
        "id": "s85in6Vu6KkR"
      },
      "execution_count": null,
      "outputs": []
    },
    {
      "cell_type": "markdown",
      "source": [
        "**Exercise 4**"
      ],
      "metadata": {
        "id": "tKOcpIZt6jvH"
      }
    },
    {
      "cell_type": "code",
      "source": [
        "from sklearn.svm import SVC\n",
        "\n",
        "svm = SVC(kernel='linear', C=1.0, random_state=1)\n",
        "svm.fit(X_train_std, y_train)\n",
        "\n",
        "y_pred = svm.predict(X_test_std)\n",
        "print('Accuracy:', accuracy_score(y_test, y_pred))\n",
        "\n",
        "plot_decision_regions(X_combined_std, y_combined, classifier=svm, test_idx=range(len(X_train), len(X_combined_std)))\n",
        "plt.xlabel('Petal length [standardized]')\n",
        "plt.ylabel('Petal width [standardized]')"
      ],
      "metadata": {
        "id": "rS9J-k7w6tpJ"
      },
      "execution_count": null,
      "outputs": []
    },
    {
      "cell_type": "code",
      "source": [
        "from sklearn.svm import SVC\n",
        "\n",
        "svm = SVC(kernel='linear', C=100.0, random_state=1)\n",
        "svm.fit(X_train_std, y_train)\n",
        "\n",
        "y_pred = svm.predict(X_test_std)\n",
        "print('Accuracy:', accuracy_score(y_test, y_pred))\n",
        "\n",
        "plot_decision_regions(X_combined_std, y_combined, classifier=svm, test_idx=range(len(X_train), len(X_combined_std)))\n",
        "plt.xlabel('Petal length [standardized]')\n",
        "plt.ylabel('Petal width [standardized]')"
      ],
      "metadata": {
        "id": "CeEoZJNg6z4-"
      },
      "execution_count": null,
      "outputs": []
    },
    {
      "cell_type": "markdown",
      "source": [
        "**Excersice 5**"
      ],
      "metadata": {
        "id": "ejIuIYZS6_6a"
      }
    },
    {
      "cell_type": "code",
      "source": [
        "from sklearn.datasets import make_moons\n",
        "\n",
        "X_moons, y_moons = make_moons(n_samples=100, random_state=123)\n",
        "X_train_m, X_test_m, y_train_m, y_test_m = train_test_split(X_moons, y_moons, test_size=0.3, random_state=1)\n",
        "\n",
        "sc_m = StandardScaler()\n",
        "X_train_m_std = sc_m.fit_transform(X_train_m)\n",
        "X_test_m_std = sc_m.transform(X_test_m)\n",
        "X_combined_m_std = np.vstack((X_train_m_std, X_test_m_std))\n",
        "y_combined_m = np.hstack((y_train_m, y_test_m))\n",
        "\n",
        "svm_rbf = SVC(kernel='rbf', random_state=1, gamma=0.2, C=1.0)\n",
        "svm_rbf.fit(X_train_m_std, y_train_m)\n",
        "\n",
        "y_pred_m = svm_rbf.predict(X_test_m_std)\n",
        "print('Accuracy:', accuracy_score(y_test_m, y_pred_m))\n",
        "\n",
        "plot_decision_regions(X_combined_m_std, y_combined_m, classifier=svm_rbf, test_idx=range(len(X_train_m), len(X_combined_m_std)))\n",
        "plt.xlabel('Feature 1 [standardized]')\n",
        "plt.ylabel('Feature 2 [standardized]')"
      ],
      "metadata": {
        "id": "qspxUxEC7MwW"
      },
      "execution_count": null,
      "outputs": []
    },
    {
      "cell_type": "code",
      "source": [
        "from sklearn.datasets import make_moons\n",
        "\n",
        "X_moons, y_moons = make_moons(n_samples=100, random_state=123)\n",
        "X_train_m, X_test_m, y_train_m, y_test_m = train_test_split(X_moons, y_moons, test_size=0.3, random_state=1)\n",
        "\n",
        "sc_m = StandardScaler()\n",
        "X_train_m_std = sc_m.fit_transform(X_train_m)\n",
        "X_test_m_std = sc_m.transform(X_test_m)\n",
        "X_combined_m_std = np.vstack((X_train_m_std, X_test_m_std))\n",
        "y_combined_m = np.hstack((y_train_m, y_test_m))\n",
        "\n",
        "svm_rbf = SVC(kernel='rbf', random_state=1, gamma=0.01, C=1.0)\n",
        "svm_rbf.fit(X_train_m_std, y_train_m)\n",
        "\n",
        "y_pred_m = svm_rbf.predict(X_test_m_std)\n",
        "print('Accuracy:', accuracy_score(y_test_m, y_pred_m))\n",
        "\n",
        "plot_decision_regions(X_combined_m_std, y_combined_m, classifier=svm_rbf, test_idx=range(len(X_train_m), len(X_combined_m_std)))\n",
        "plt.xlabel('Feature 1 [standardized]')\n",
        "plt.ylabel('Feature 2 [standardized]')"
      ],
      "metadata": {
        "id": "qlB_ULeJ7d3p"
      },
      "execution_count": null,
      "outputs": []
    },
    {
      "cell_type": "code",
      "source": [
        "from sklearn.datasets import make_moons\n",
        "\n",
        "X_moons, y_moons = make_moons(n_samples=100, random_state=123)\n",
        "X_train_m, X_test_m, y_train_m, y_test_m = train_test_split(X_moons, y_moons, test_size=0.3, random_state=1)\n",
        "\n",
        "sc_m = StandardScaler()\n",
        "X_train_m_std = sc_m.fit_transform(X_train_m)\n",
        "X_test_m_std = sc_m.transform(X_test_m)\n",
        "X_combined_m_std = np.vstack((X_train_m_std, X_test_m_std))\n",
        "y_combined_m = np.hstack((y_train_m, y_test_m))\n",
        "\n",
        "svm_rbf = SVC(kernel='rbf', random_state=1, gamma=1.0, C=1.0)\n",
        "svm_rbf.fit(X_train_m_std, y_train_m)\n",
        "\n",
        "y_pred_m = svm_rbf.predict(X_test_m_std)\n",
        "print('Accuracy:', accuracy_score(y_test_m, y_pred_m))\n",
        "\n",
        "plot_decision_regions(X_combined_m_std, y_combined_m, classifier=svm_rbf, test_idx=range(len(X_train_m), len(X_combined_m_std)))\n",
        "plt.xlabel('Feature 1 [standardized]')\n",
        "plt.ylabel('Feature 2 [standardized]')"
      ],
      "metadata": {
        "id": "CazLgjOy7jUN"
      },
      "execution_count": null,
      "outputs": []
    },
    {
      "cell_type": "code",
      "source": [
        "from sklearn.datasets import make_moons\n",
        "\n",
        "X_moons, y_moons = make_moons(n_samples=100, random_state=123)\n",
        "X_train_m, X_test_m, y_train_m, y_test_m = train_test_split(X_moons, y_moons, test_size=0.3, random_state=1)\n",
        "\n",
        "sc_m = StandardScaler()\n",
        "X_train_m_std = sc_m.fit_transform(X_train_m)\n",
        "X_test_m_std = sc_m.transform(X_test_m)\n",
        "X_combined_m_std = np.vstack((X_train_m_std, X_test_m_std))\n",
        "y_combined_m = np.hstack((y_train_m, y_test_m))\n",
        "\n",
        "svm_rbf = SVC(kernel='rbf', random_state=1, gamma=100, C=1.0)\n",
        "svm_rbf.fit(X_train_m_std, y_train_m)\n",
        "\n",
        "y_pred_m = svm_rbf.predict(X_test_m_std)\n",
        "print('Accuracy:', accuracy_score(y_test_m, y_pred_m))\n",
        "\n",
        "plot_decision_regions(X_combined_m_std, y_combined_m, classifier=svm_rbf, test_idx=range(len(X_train_m), len(X_combined_m_std)))\n",
        "plt.xlabel('Feature 1 [standardized]')\n",
        "plt.ylabel('Feature 2 [standardized]')"
      ],
      "metadata": {
        "id": "dq_hKtzQ7pH3"
      },
      "execution_count": null,
      "outputs": []
    },
    {
      "cell_type": "markdown",
      "source": [
        "**Exercise 6**"
      ],
      "metadata": {
        "id": "SNWLKjEP8379"
      }
    },
    {
      "cell_type": "code",
      "source": [
        "from sklearn.tree import DecisionTreeClassifier\n",
        "from sklearn.tree import export_graphviz\n",
        "from pydotplus import graph_from_dot_data\n",
        "\n",
        "tree = DecisionTreeClassifier(criterion='gini', max_depth=4, random_state=1)\n",
        "tree.fit(X_train, y_train)\n",
        "\n",
        "y_pred = tree.predict(X_test)\n",
        "print('Accuracy:', accuracy_score(y_test, y_pred))\n",
        "\n",
        "X_combined = np.vstack((X_train, X_test))\n",
        "plot_decision_regions(X_combined, y_combined, classifier=tree, test_idx=range(len(X_train), len(X_combined)))\n",
        "plt.xlabel('Petal length')\n",
        "plt.ylabel('Petal width')\n",
        "\n",
        "dot_data = export_graphviz(tree, filled=True, rounded=True, class_names=['Setosa', 'Versicolor', 'Virginica'],\n",
        "                          feature_names=['petal length', 'petal width'], out_file=None)\n",
        "graph = graph_from_dot_data(dot_data)\n",
        "graph.write_png('tree.png')"
      ],
      "metadata": {
        "id": "TnpnWT_K89Jb"
      },
      "execution_count": null,
      "outputs": []
    },
    {
      "cell_type": "code",
      "source": [
        "from sklearn.tree import DecisionTreeClassifier\n",
        "from sklearn.tree import export_graphviz\n",
        "from pydotplus import graph_from_dot_data\n",
        "\n",
        "tree = DecisionTreeClassifier(criterion='gini', max_depth=1, random_state=1)\n",
        "tree.fit(X_train, y_train)  # No scaling needed\n",
        "\n",
        "y_pred = tree.predict(X_test)\n",
        "print('Accuracy:', accuracy_score(y_test, y_pred))\n",
        "\n",
        "X_combined = np.vstack((X_train, X_test))\n",
        "plot_decision_regions(X_combined, y_combined, classifier=tree, test_idx=range(len(X_train), len(X_combined)))\n",
        "plt.xlabel('Petal length')\n",
        "plt.ylabel('Petal width')\n",
        "\n",
        "dot_data = export_graphviz(tree, filled=True, rounded=True, class_names=['Setosa', 'Versicolor', 'Virginica'],\n",
        "                          feature_names=['petal length', 'petal width'], out_file=None)\n",
        "graph = graph_from_dot_data(dot_data)\n",
        "graph.write_png('tree.png')"
      ],
      "metadata": {
        "id": "e95S3HQo9QCL"
      },
      "execution_count": null,
      "outputs": []
    },
    {
      "cell_type": "code",
      "source": [
        "from sklearn.tree import DecisionTreeClassifier\n",
        "from sklearn.tree import export_graphviz\n",
        "from pydotplus import graph_from_dot_data\n",
        "\n",
        "tree = DecisionTreeClassifier(criterion='gini', max_depth=2, random_state=1)\n",
        "tree.fit(X_train, y_train)  # No scaling needed\n",
        "\n",
        "y_pred = tree.predict(X_test)\n",
        "print('Accuracy:', accuracy_score(y_test, y_pred))\n",
        "\n",
        "X_combined = np.vstack((X_train, X_test))\n",
        "plot_decision_regions(X_combined, y_combined, classifier=tree, test_idx=range(len(X_train), len(X_combined)))\n",
        "plt.xlabel('Petal length')\n",
        "plt.ylabel('Petal width')\n",
        "\n",
        "dot_data = export_graphviz(tree, filled=True, rounded=True, class_names=['Setosa', 'Versicolor', 'Virginica'],\n",
        "                          feature_names=['petal length', 'petal width'], out_file=None)\n",
        "graph = graph_from_dot_data(dot_data)\n",
        "graph.write_png('tree.png')"
      ],
      "metadata": {
        "id": "zYRbTuSC9TyU"
      },
      "execution_count": null,
      "outputs": []
    },
    {
      "cell_type": "code",
      "source": [
        "from sklearn.tree import DecisionTreeClassifier\n",
        "from sklearn.tree import export_graphviz\n",
        "from pydotplus import graph_from_dot_data\n",
        "\n",
        "tree = DecisionTreeClassifier(criterion='gini', max_depth=3, random_state=1)\n",
        "tree.fit(X_train, y_train)  # No scaling needed\n",
        "\n",
        "y_pred = tree.predict(X_test)\n",
        "print('Accuracy:', accuracy_score(y_test, y_pred))\n",
        "\n",
        "X_combined = np.vstack((X_train, X_test))\n",
        "plot_decision_regions(X_combined, y_combined, classifier=tree, test_idx=range(len(X_train), len(X_combined)))\n",
        "plt.xlabel('Petal length')\n",
        "plt.ylabel('Petal width')\n",
        "\n",
        "dot_data = export_graphviz(tree, filled=True, rounded=True, class_names=['Setosa', 'Versicolor', 'Virginica'],\n",
        "                          feature_names=['petal length', 'petal width'], out_file=None)\n",
        "graph = graph_from_dot_data(dot_data)\n",
        "graph.write_png('tree.png')"
      ],
      "metadata": {
        "id": "E58cP2AC9Xcm"
      },
      "execution_count": null,
      "outputs": []
    },
    {
      "cell_type": "code",
      "source": [
        "from sklearn.tree import DecisionTreeClassifier\n",
        "from sklearn.tree import export_graphviz\n",
        "from pydotplus import graph_from_dot_data\n",
        "\n",
        "tree = DecisionTreeClassifier(criterion='gini', max_depth=5, random_state=1)\n",
        "tree.fit(X_train, y_train)  # No scaling needed\n",
        "\n",
        "y_pred = tree.predict(X_test)\n",
        "print('Accuracy:', accuracy_score(y_test, y_pred))\n",
        "\n",
        "X_combined = np.vstack((X_train, X_test))\n",
        "plot_decision_regions(X_combined, y_combined, classifier=tree, test_idx=range(len(X_train), len(X_combined)))\n",
        "plt.xlabel('Petal length')\n",
        "plt.ylabel('Petal width')\n",
        "\n",
        "dot_data = export_graphviz(tree, filled=True, rounded=True, class_names=['Setosa', 'Versicolor', 'Virginica'],\n",
        "                          feature_names=['petal length', 'petal width'], out_file=None)\n",
        "graph = graph_from_dot_data(dot_data)\n",
        "graph.write_png('tree.png')"
      ],
      "metadata": {
        "id": "slrQgA4H9cLX"
      },
      "execution_count": null,
      "outputs": []
    },
    {
      "cell_type": "code",
      "source": [
        "from sklearn.tree import DecisionTreeClassifier\n",
        "from sklearn.tree import export_graphviz\n",
        "from pydotplus import graph_from_dot_data\n",
        "\n",
        "tree = DecisionTreeClassifier(criterion='gini', max_depth=6, random_state=1)\n",
        "tree.fit(X_train, y_train)  # No scaling needed\n",
        "\n",
        "y_pred = tree.predict(X_test)\n",
        "print('Accuracy:', accuracy_score(y_test, y_pred))\n",
        "\n",
        "X_combined = np.vstack((X_train, X_test))\n",
        "plot_decision_regions(X_combined, y_combined, classifier=tree, test_idx=range(len(X_train), len(X_combined)))\n",
        "plt.xlabel('Petal length')\n",
        "plt.ylabel('Petal width')\n",
        "\n",
        "dot_data = export_graphviz(tree, filled=True, rounded=True, class_names=['Setosa', 'Versicolor', 'Virginica'],\n",
        "                          feature_names=['petal length', 'petal width'], out_file=None)\n",
        "graph = graph_from_dot_data(dot_data)\n",
        "graph.write_png('tree.png')"
      ],
      "metadata": {
        "id": "0goGFuEh9i1A"
      },
      "execution_count": null,
      "outputs": []
    },
    {
      "cell_type": "code",
      "source": [
        "from sklearn.tree import DecisionTreeClassifier\n",
        "from sklearn.tree import export_graphviz\n",
        "from pydotplus import graph_from_dot_data\n",
        "\n",
        "tree = DecisionTreeClassifier(criterion='gini', max_depth=7, random_state=1)\n",
        "tree.fit(X_train, y_train)  # No scaling needed\n",
        "\n",
        "y_pred = tree.predict(X_test)\n",
        "print('Accuracy:', accuracy_score(y_test, y_pred))\n",
        "\n",
        "X_combined = np.vstack((X_train, X_test))\n",
        "plot_decision_regions(X_combined, y_combined, classifier=tree, test_idx=range(len(X_train), len(X_combined)))\n",
        "plt.xlabel('Petal length')\n",
        "plt.ylabel('Petal width')\n",
        "\n",
        "dot_data = export_graphviz(tree, filled=True, rounded=True, class_names=['Setosa', 'Versicolor', 'Virginica'],\n",
        "                          feature_names=['petal length', 'petal width'], out_file=None)\n",
        "graph = graph_from_dot_data(dot_data)\n",
        "graph.write_png('tree.png')"
      ],
      "metadata": {
        "id": "_bpKj2Sl9oNn"
      },
      "execution_count": null,
      "outputs": []
    },
    {
      "cell_type": "code",
      "source": [
        "from sklearn.tree import DecisionTreeClassifier\n",
        "from sklearn.tree import export_graphviz\n",
        "from pydotplus import graph_from_dot_data\n",
        "\n",
        "tree = DecisionTreeClassifier(criterion='gini', max_depth=8, random_state=1)\n",
        "tree.fit(X_train, y_train)  # No scaling needed\n",
        "\n",
        "y_pred = tree.predict(X_test)\n",
        "print('Accuracy:', accuracy_score(y_test, y_pred))\n",
        "\n",
        "X_combined = np.vstack((X_train, X_test))\n",
        "plot_decision_regions(X_combined, y_combined, classifier=tree, test_idx=range(len(X_train), len(X_combined)))\n",
        "plt.xlabel('Petal length')\n",
        "plt.ylabel('Petal width')\n",
        "\n",
        "dot_data = export_graphviz(tree, filled=True, rounded=True, class_names=['Setosa', 'Versicolor', 'Virginica'],\n",
        "                          feature_names=['petal length', 'petal width'], out_file=None)\n",
        "graph = graph_from_dot_data(dot_data)\n",
        "graph.write_png('tree.png')"
      ],
      "metadata": {
        "id": "IFh5FLo7-Gxe"
      },
      "execution_count": null,
      "outputs": []
    },
    {
      "cell_type": "code",
      "source": [
        "from sklearn.tree import DecisionTreeClassifier\n",
        "from sklearn.tree import export_graphviz\n",
        "from pydotplus import graph_from_dot_data\n",
        "\n",
        "tree = DecisionTreeClassifier(criterion='gini', max_depth=9, random_state=1)\n",
        "tree.fit(X_train, y_train)  # No scaling needed\n",
        "\n",
        "y_pred = tree.predict(X_test)\n",
        "print('Accuracy:', accuracy_score(y_test, y_pred))\n",
        "\n",
        "X_combined = np.vstack((X_train, X_test))\n",
        "plot_decision_regions(X_combined, y_combined, classifier=tree, test_idx=range(len(X_train), len(X_combined)))\n",
        "plt.xlabel('Petal length')\n",
        "plt.ylabel('Petal width')\n",
        "\n",
        "dot_data = export_graphviz(tree, filled=True, rounded=True, class_names=['Setosa', 'Versicolor', 'Virginica'],\n",
        "                          feature_names=['petal length', 'petal width'], out_file=None)\n",
        "graph = graph_from_dot_data(dot_data)\n",
        "graph.write_png('tree.png')"
      ],
      "metadata": {
        "id": "97y8Nfhf-KYL"
      },
      "execution_count": null,
      "outputs": []
    },
    {
      "cell_type": "code",
      "source": [
        "from sklearn.tree import DecisionTreeClassifier\n",
        "from sklearn.tree import export_graphviz\n",
        "from pydotplus import graph_from_dot_data\n",
        "\n",
        "tree = DecisionTreeClassifier(criterion='gini', max_depth=10, random_state=1)\n",
        "tree.fit(X_train, y_train)\n",
        "\n",
        "y_pred = tree.predict(X_test)\n",
        "print('Accuracy:', accuracy_score(y_test, y_pred))\n",
        "\n",
        "X_combined = np.vstack((X_train, X_test))\n",
        "plot_decision_regions(X_combined, y_combined, classifier=tree, test_idx=range(len(X_train), len(X_combined)))\n",
        "plt.xlabel('Petal length')\n",
        "plt.ylabel('Petal width')\n",
        "\n",
        "dot_data = export_graphviz(tree, filled=True, rounded=True, class_names=['Setosa', 'Versicolor', 'Virginica'],\n",
        "                          feature_names=['petal length', 'petal width'], out_file=None)\n",
        "graph = graph_from_dot_data(dot_data)\n",
        "graph.write_png('tree.png')"
      ],
      "metadata": {
        "id": "zzLeyjFz-Nvt"
      },
      "execution_count": null,
      "outputs": []
    },
    {
      "cell_type": "markdown",
      "source": [
        "**Exercise  7**"
      ],
      "metadata": {
        "id": "C7-72-6e-W2x"
      }
    },
    {
      "cell_type": "code",
      "source": [
        "from sklearn.ensemble import RandomForestClassifier\n",
        "\n",
        "forest = RandomForestClassifier(criterion='gini', n_estimators=25, random_state=1, n_jobs=2)\n",
        "forest.fit(X_train, y_train)\n",
        "\n",
        "y_pred = forest.predict(X_test)\n",
        "print('Accuracy:', accuracy_score(y_test, y_pred))\n",
        "print('Feature Importances:', forest.feature_importances_)\n",
        "\n",
        "plot_decision_regions(X_combined, y_combined, classifier=forest, test_idx=range(len(X_train), len(X_combined)))\n",
        "plt.xlabel('Petal length')\n",
        "plt.ylabel('Petal width')"
      ],
      "metadata": {
        "id": "7UMx08H9-Vqg"
      },
      "execution_count": null,
      "outputs": []
    },
    {
      "cell_type": "code",
      "source": [
        "from sklearn.ensemble import RandomForestClassifier\n",
        "\n",
        "forest = RandomForestClassifier(criterion='gini', n_estimators=100, random_state=1, n_jobs=2)\n",
        "forest.fit(X_train, y_train)\n",
        "\n",
        "y_pred = forest.predict(X_test)\n",
        "print('Accuracy:', accuracy_score(y_test, y_pred))\n",
        "print('Feature Importances:', forest.feature_importances_)\n",
        "\n",
        "plot_decision_regions(X_combined, y_combined, classifier=forest, test_idx=range(len(X_train), len(X_combined)))\n",
        "plt.xlabel('Petal length')\n",
        "plt.ylabel('Petal width')"
      ],
      "metadata": {
        "id": "hNuzAsDG-nIu"
      },
      "execution_count": null,
      "outputs": []
    },
    {
      "cell_type": "markdown",
      "source": [
        "**Exercise 8**"
      ],
      "metadata": {
        "id": "7wRbDOtV-1CQ"
      }
    },
    {
      "cell_type": "code",
      "source": [
        "from sklearn.neighbors import KNeighborsClassifier\n",
        "\n",
        "knn = KNeighborsClassifier(n_neighbors=5, p=2, metric='minkowski')\n",
        "knn.fit(X_train_std, y_train)\n",
        "\n",
        "y_pred = knn.predict(X_test_std)\n",
        "print('Accuracy:', accuracy_score(y_test, y_pred))\n",
        "\n",
        "plot_decision_regions(X_combined_std, y_combined, classifier=knn, test_idx=range(len(X_train), len(X_combined_std)))\n",
        "plt.xlabel('Petal length [standardized]')\n",
        "plt.ylabel('Petal width [standardized]')"
      ],
      "metadata": {
        "id": "fBIUNoor-uLc"
      },
      "execution_count": null,
      "outputs": []
    },
    {
      "cell_type": "code",
      "source": [
        "from sklearn.neighbors import KNeighborsClassifier\n",
        "\n",
        "knn = KNeighborsClassifier(n_neighbors=1, p=2, metric='minkowski')\n",
        "knn.fit(X_train_std, y_train)\n",
        "\n",
        "y_pred = knn.predict(X_test_std)\n",
        "print('Accuracy:', accuracy_score(y_test, y_pred))\n",
        "\n",
        "plot_decision_regions(X_combined_std, y_combined, classifier=knn, test_idx=range(len(X_train), len(X_combined_std)))\n",
        "plt.xlabel('Petal length [standardized]')\n",
        "plt.ylabel('Petal width [standardized]')"
      ],
      "metadata": {
        "id": "fV74IZ4E_Edk"
      },
      "execution_count": null,
      "outputs": []
    },
    {
      "cell_type": "code",
      "source": [
        "from sklearn.neighbors import KNeighborsClassifier\n",
        "\n",
        "knn = KNeighborsClassifier(n_neighbors=10, p=2, metric='minkowski')\n",
        "knn.fit(X_train_std, y_train)\n",
        "\n",
        "y_pred = knn.predict(X_test_std)\n",
        "print('Accuracy:', accuracy_score(y_test, y_pred))\n",
        "\n",
        "plot_decision_regions(X_combined_std, y_combined, classifier=knn, test_idx=range(len(X_train), len(X_combined_std)))\n",
        "plt.xlabel('Petal length [standardized]')\n",
        "plt.ylabel('Petal width [standardized]')"
      ],
      "metadata": {
        "id": "V3aWc5f6_H7x"
      },
      "execution_count": null,
      "outputs": []
    },
    {
      "cell_type": "code",
      "source": [
        "from sklearn.neighbors import KNeighborsClassifier\n",
        "\n",
        "knn = KNeighborsClassifier(n_neighbors=5, p=1, metric='minkowski')\n",
        "knn.fit(X_train_std, y_train)\n",
        "\n",
        "y_pred = knn.predict(X_test_std)\n",
        "print('Accuracy:', accuracy_score(y_test, y_pred))\n",
        "\n",
        "plot_decision_regions(X_combined_std, y_combined, classifier=knn, test_idx=range(len(X_train), len(X_combined_std)))\n",
        "plt.xlabel('Petal length [standardized]')\n",
        "plt.ylabel('Petal width [standardized]')"
      ],
      "metadata": {
        "id": "kBnRvW3__UEM"
      },
      "execution_count": null,
      "outputs": []
    },
    {
      "cell_type": "markdown",
      "source": [
        "**Exercise 9**"
      ],
      "metadata": {
        "id": "Lk32DXHx_Ytt"
      }
    },
    {
      "cell_type": "code",
      "source": [
        "from sklearn.model_selection import GridSearchCV\n",
        "\n",
        "param_grid = {'C': [0.1, 1, 10, 100], 'gamma': [0.01, 0.1, 1, 10], 'kernel': ['rbf']}\n",
        "grid = GridSearchCV(SVC(), param_grid, cv=5)\n",
        "grid.fit(X_train_std, y_train)\n",
        "print('Best params:', grid.best_params_)\n",
        "print('Best score:', grid.best_score_)\n",
        "\n",
        "models = {'Perceptron': ppn, 'LogReg': lr, 'SVM': svm, 'Tree': tree, 'Forest': forest, 'KNN': knn}\n",
        "for name, model in models.items():\n",
        "    y_pred = model.predict(X_test_std if name in ['Perceptron', 'LogReg', 'SVM', 'KNN'] else X_test)\n",
        "    print(f'{name} Accuracy: {accuracy_score(y_test, y_pred)}')"
      ],
      "metadata": {
        "id": "l2mlCzIB_gtE"
      },
      "execution_count": null,
      "outputs": []
    },
    {
      "cell_type": "code",
      "source": [
        "from sklearn.linear_model import LogisticRegression\n",
        "\n",
        "param_grid = {'C': [0.1, 1, 10, 100], 'gamma': [0.01, 0.1, 1, 10], 'kernel': ['rbf']}\n",
        "grid = GridSearchCV(SVC(), param_grid, cv=5)\n",
        "grid.fit(X_train_std, y_train)\n",
        "print('Best params:', grid.best_params_)\n",
        "print('Best score:', grid.best_score_)\n",
        "\n",
        "models = {'Perceptron': ppn, 'LogReg': lr, 'SVM': svm, 'Tree': tree, 'Forest': forest, 'KNN': knn}\n",
        "for name, model in models.items():\n",
        "    y_pred = model.predict(X_test_std if name in ['Perceptron', 'LogReg', 'SVM', 'KNN'] else X_test)\n",
        "    print(f'{name} Accuracy: {accuracy_score(y_test, y_pred)}')"
      ],
      "metadata": {
        "id": "ZZAl3E7r_892"
      },
      "execution_count": null,
      "outputs": []
    }
  ]
}